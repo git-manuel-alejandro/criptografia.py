{
 "cells": [
  {
   "cell_type": "code",
   "execution_count": 79,
   "metadata": {},
   "outputs": [
    {
     "name": "stdout",
     "output_type": "stream",
     "text": [
      "Algoritmo :  <Crypto.Hash.SHA256.SHA256Hash object at 0x0000025BB77CE730>\n",
      "Hash :  b221d9dbb083a7f33428d7c2a3c3198ae925614d70210e28716ccaa7cd4ddb79\n"
     ]
    }
   ],
   "source": [
    "#generar y guardar el hash de un texto\n",
    "a=open('original.txt','rb')\n",
    "a=a.read()\n",
    "\n",
    "from Crypto.Hash import SHA256\n",
    "\n",
    "#calcular el hash del texto del archivo\n",
    "h=SHA256.new()\n",
    "h.update(ah)\n",
    "h.digest()\n",
    "\n",
    "algoritmo = str(h)\n",
    "print(\"Algoritmo : \", algoritmo)\n",
    "\n",
    "#guardar el hash en un archivo nuevo\n",
    "ha=open('hash256_de_original.txt','wt')\n",
    "ha.write(h.hexdigest())\n",
    "ha.write(algoritmo)\n",
    "\n",
    "\n",
    "ha.close()\n",
    "\n",
    "print(\"Hash : \" , h.hexdigest())"
   ]
  },
  {
   "cell_type": "code",
   "execution_count": 80,
   "metadata": {},
   "outputs": [
    {
     "name": "stdout",
     "output_type": "stream",
     "text": [
      "b'\\xfd\\x98\\xd1\\xe1\\x10\\xb3N\\x1a\\x18\\x9b6\\x96+\\xd1\\xf0\\xe0'\n",
      "b'\\xfd\\xbcj{\\x14r{N\\xcfg\\xc4\\x98QI\\xf9S'\n"
     ]
    }
   ],
   "source": [
    "#encriptar un archivo con aes\n",
    "from Crypto.Cipher import AES\n",
    "import os\n",
    "\n",
    "#generar llaves y modos\n",
    "key=os.urandom(16)\n",
    "iv=os.urandom(16)\n",
    "mode=AES.MODE_CBC\n",
    "\n",
    "#funcion para parchar archivo\n",
    "def pad_mes(file):\n",
    "    while len(file)%16!=0:\n",
    "        file=file+b'0'\n",
    "    return file\n",
    "\n",
    "#guardar llave y vectoriv\n",
    "e=open('key.txt','wb')\n",
    "a=open('iv.txt','wb')\n",
    "e.write(key)\n",
    "a.write(iv)\n",
    "\n",
    "print(key)\n",
    "print(iv)\n",
    "\n"
   ]
  },
  {
   "cell_type": "code",
   "execution_count": 63,
   "metadata": {},
   "outputs": [],
   "source": [
    "#iniciar AES\n",
    "cipher=AES.new(key, mode, iv)\n",
    "\n",
    "#abrir el archivo como cadena de bits\n",
    "f=open('original.txt','rb')\n",
    "orig_file=f.read()\n",
    "\n",
    "#parchar archvio abierto\n",
    "padded_f=pad_mes(orig_file)\n",
    "\n",
    "#encriptar archivo parchado\n",
    "encrypted_message=cipher.encrypt(padded_f)\n",
    "\n",
    "\n",
    "#generar archivo encriptado\n",
    "e=open('AES_de_original.txt','wb')\n",
    "e.write(encrypted_message)\n",
    "\n",
    "e.close()\n",
    "f.close()"
   ]
  },
  {
   "cell_type": "code",
   "execution_count": null,
   "metadata": {},
   "outputs": [],
   "source": []
  }
 ],
 "metadata": {
  "kernelspec": {
   "display_name": "Python 3",
   "language": "python",
   "name": "python3"
  },
  "language_info": {
   "codemirror_mode": {
    "name": "ipython",
    "version": 3
   },
   "file_extension": ".py",
   "mimetype": "text/x-python",
   "name": "python",
   "nbconvert_exporter": "python",
   "pygments_lexer": "ipython3",
   "version": "3.8.8"
  }
 },
 "nbformat": 4,
 "nbformat_minor": 2
}
