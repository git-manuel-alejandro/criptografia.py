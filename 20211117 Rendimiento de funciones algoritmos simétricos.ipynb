{
 "cells": [
  {
   "cell_type": "code",
   "execution_count": 1,
   "id": "3b84db76",
   "metadata": {},
   "outputs": [
    {
     "name": "stdout",
     "output_type": "stream",
     "text": [
      "02b694f47a5fd62961ac98599e300e451c90e08d6849d46dfdb39fc3bbdb8b554ed391765ad67d4c44749e1482f079b158a56a368eff17ade2b3e3c20aa44aec\n",
      "Tiempo de ejecución :  0.0010008811950683594\n"
     ]
    }
   ],
   "source": [
    "import hashlib\n",
    "import time\n",
    "\n",
    "inicio = time.time()\n",
    "BUFFER = 1024\n",
    "def hasherSeudoInfinito(nombre, buffer, algoritmo):\n",
    "    with open(nombre, \"rb\") as archivo:\n",
    "        while True:\n",
    "            data = archivo.read(buffer)\n",
    "            if not data:\n",
    "                break\n",
    "            algoritmo.update(data)\n",
    "        return algoritmo.hexdigest()\n",
    "            \n",
    "    \n",
    "print(hasherSeudoInfinito(\"20210920fifa.ipynb\", BUFFER, hashlib.sha512()))\n",
    "fin = time.time()\n",
    "print(\"Tiempo de ejecución : \", fin-inicio)"
   ]
  },
  {
   "cell_type": "code",
   "execution_count": null,
   "id": "5e3c19c4",
   "metadata": {},
   "outputs": [],
   "source": []
  }
 ],
 "metadata": {
  "kernelspec": {
   "display_name": "Python 3",
   "language": "python",
   "name": "python3"
  },
  "language_info": {
   "codemirror_mode": {
    "name": "ipython",
    "version": 3
   },
   "file_extension": ".py",
   "mimetype": "text/x-python",
   "name": "python",
   "nbconvert_exporter": "python",
   "pygments_lexer": "ipython3",
   "version": "3.8.8"
  }
 },
 "nbformat": 4,
 "nbformat_minor": 5
}
