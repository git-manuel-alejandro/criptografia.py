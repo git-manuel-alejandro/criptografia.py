{
 "cells": [
  {
   "cell_type": "markdown",
   "id": "64ec6959",
   "metadata": {},
   "source": [
    "# Tarea N°1\n",
    "En un documento de Python Jupyter, calcule el hash de el string \"este es el primer string del curso\", utilizando los algoritmos MD5, SHA-1, SHA-256, SHA3-256, que se encuentran en la documentación de Crypto.Hash que se entrega en el curso. "
   ]
  },
  {
   "cell_type": "code",
   "execution_count": 9,
   "id": "21144f7b",
   "metadata": {},
   "outputs": [
    {
     "name": "stdout",
     "output_type": "stream",
     "text": [
      "991210869e10a34b582c42692e9f1753\n"
     ]
    }
   ],
   "source": [
    "# Cifrado MD5\n",
    "from Crypto.Hash import MD5\n",
    "\n",
    "h = MD5.new()\n",
    "h.update(b'este es el primer string del curso')\n",
    "print (h.hexdigest())"
   ]
  },
  {
   "cell_type": "code",
   "execution_count": 10,
   "id": "ebf05123",
   "metadata": {},
   "outputs": [
    {
     "name": "stdout",
     "output_type": "stream",
     "text": [
      "3500a94ee41be1df4082cb26b1f91eb7734ee5f0\n"
     ]
    }
   ],
   "source": [
    "# Cifrado SHA1\n",
    "from Crypto.Hash import SHA1\n",
    "\n",
    "h = SHA1.new()\n",
    "h.update(b'este es el primer string del curso')\n",
    "print (h.hexdigest())"
   ]
  },
  {
   "cell_type": "code",
   "execution_count": 12,
   "id": "f2aff313",
   "metadata": {},
   "outputs": [
    {
     "name": "stdout",
     "output_type": "stream",
     "text": [
      "6eed07ee8e696654a4241a433eb8b83b0f571297abfdb46df01f9c29f13f0f3e\n"
     ]
    }
   ],
   "source": [
    "#Cifrado SHA3-256\n",
    "from Crypto.Hash import SHA3_256\n",
    "h_obj = SHA3_256.new()\n",
    "h_obj.update(b'este es el primer string del curso')\n",
    "print (h_obj.hexdigest())"
   ]
  },
  {
   "cell_type": "code",
   "execution_count": 7,
   "id": "a2c7a7d2",
   "metadata": {},
   "outputs": [
    {
     "name": "stdout",
     "output_type": "stream",
     "text": [
      "5524a113039c69f7aab574cb759d4ac9dd8cc40cd10ddfc00c596710af269888\n"
     ]
    }
   ],
   "source": [
    "# Cifrado SHA-256\n",
    "from Crypto.Hash import SHA256\n",
    "\n",
    "h = SHA256.new()\n",
    "h.update(b'este es el primer string del curso')\n",
    "print( h.hexdigest())"
   ]
  },
  {
   "cell_type": "code",
   "execution_count": null,
   "id": "92769861",
   "metadata": {},
   "outputs": [],
   "source": []
  },
  {
   "cell_type": "code",
   "execution_count": null,
   "id": "4dfc88ea",
   "metadata": {},
   "outputs": [],
   "source": []
  }
 ],
 "metadata": {
  "kernelspec": {
   "display_name": "Python 3",
   "language": "python",
   "name": "python3"
  },
  "language_info": {
   "codemirror_mode": {
    "name": "ipython",
    "version": 3
   },
   "file_extension": ".py",
   "mimetype": "text/x-python",
   "name": "python",
   "nbconvert_exporter": "python",
   "pygments_lexer": "ipython3",
   "version": "3.8.8"
  }
 },
 "nbformat": 4,
 "nbformat_minor": 5
}
